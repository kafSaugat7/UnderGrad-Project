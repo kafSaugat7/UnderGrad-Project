{
  "nbformat": 4,
  "nbformat_minor": 0,
  "metadata": {
    "colab": {
      "provenance": [],
      "authorship_tag": "ABX9TyOkoNRvXpMQ8JYgGmzMdOzO",
      "include_colab_link": true
    },
    "kernelspec": {
      "name": "python3",
      "display_name": "Python 3"
    },
    "language_info": {
      "name": "python"
    }
  },
  "cells": [
    {
      "cell_type": "markdown",
      "metadata": {
        "id": "view-in-github",
        "colab_type": "text"
      },
      "source": [
        "<a href=\"https://colab.research.google.com/github/kafSaugat7/UnderGrad-Project/blob/main/Hangman_Game.ipynb\" target=\"_parent\"><img src=\"https://colab.research.google.com/assets/colab-badge.svg\" alt=\"Open In Colab\"/></a>"
      ]
    },
    {
      "cell_type": "code",
      "source": [
        "import getpass\n",
        "choosen_word= getpass.getpass(\"Enter the secret word: \").lower()\n",
        "print(\"Word saved! Let the game begin.\")"
      ],
      "metadata": {
        "colab": {
          "base_uri": "https://localhost:8080/"
        },
        "id": "ub-6gAhFnz5w",
        "outputId": "a4a09bac-e8b7-4c2a-face-facd7eb87d66"
      },
      "execution_count": null,
      "outputs": [
        {
          "output_type": "stream",
          "name": "stdout",
          "text": [
            "Enter the secret word: ··········\n",
            "Word saved! Let the game begin.\n"
          ]
        }
      ]
    },
    {
      "cell_type": "code",
      "source": [
        "\n",
        "HANGMAN_STAGES = [\n",
        "    '''\n",
        "  +---+\n",
        "  |   |\n",
        "      |\n",
        "      |\n",
        "      |\n",
        "      |\n",
        "=========''',\n",
        "    '''\n",
        "  +---+\n",
        "  |   |\n",
        "  O   |\n",
        "      |\n",
        "      |\n",
        "      |\n",
        "=========''',\n",
        "    '''\n",
        "  +---+\n",
        "  |   |\n",
        "  O   |\n",
        "  |   |\n",
        "      |\n",
        "      |\n",
        "=========''',\n",
        "    '''\n",
        "  +---+\n",
        "  |   |\n",
        "  O   |\n",
        " /|   |\n",
        "      |\n",
        "      |\n",
        "=========''',\n",
        "    '''\n",
        "  +---+\n",
        "  |   |\n",
        "  O   |\n",
        " /|\\\\  |\n",
        "      |\n",
        "      |\n",
        "=========''',\n",
        "    '''\n",
        "  +---+\n",
        "  |   |\n",
        "  O   |\n",
        " /|\\\\  |\n",
        " /    |\n",
        "      |\n",
        "=========''',\n",
        "    '''\n",
        "  +---+\n",
        "  |   |\n",
        "  O   |\n",
        " /|\\\\  |\n",
        " / \\\\  |\n",
        "      |\n",
        "========='''\n",
        "]"
      ],
      "metadata": {
        "id": "YRPTw2Qjlv9l"
      },
      "execution_count": null,
      "outputs": []
    },
    {
      "cell_type": "code",
      "source": [
        "display=[]\n",
        "for i in range(len(choosen_word)):\n",
        "  display+='_'\n",
        "display\n"
      ],
      "metadata": {
        "colab": {
          "base_uri": "https://localhost:8080/"
        },
        "id": "OA-gX9vVNZSi",
        "outputId": "e34e9182-dff9-4723-eb39-cd8f173abef0"
      },
      "execution_count": null,
      "outputs": [
        {
          "output_type": "execute_result",
          "data": {
            "text/plain": [
              "['_', '_', '_', '_', '_', '_', '_']"
            ]
          },
          "metadata": {},
          "execution_count": 3
        }
      ]
    },
    {
      "cell_type": "code",
      "source": [
        "game_over=False\n",
        "lives=0\n",
        "while not game_over:\n",
        "  guessed_letter=input('enter the words: ').lower()\n",
        "  for position in range(len(choosen_word)):\n",
        "    letter=choosen_word[position]\n",
        "    if letter == guessed_letter:\n",
        "      display[position]=guessed_letter\n",
        "  print(display)\n",
        "\n",
        "  if guessed_letter not in choosen_word:\n",
        "      lives+=1\n",
        "      print(HANGMAN_STAGES[lives])\n",
        "      if lives==6:\n",
        "        game_over=True\n",
        "        print(\"you loose:You hanged 😔☠️\")\n",
        "        print(f\"The word was:-->{choosen_word} <--\")\n",
        "\n",
        "  if '_' not in display:\n",
        "    game_over=True\n",
        "    print(\"you won the game\")\n"
      ],
      "metadata": {
        "colab": {
          "base_uri": "https://localhost:8080/"
        },
        "id": "z9I2NEvlSkGR",
        "outputId": "46332f54-7a91-45b8-d96f-3a6ee3a26e89"
      },
      "execution_count": null,
      "outputs": [
        {
          "output_type": "stream",
          "name": "stdout",
          "text": [
            "enter the words: a\n",
            "['_', 'a', '_', '_', '_', '_', '_']\n",
            "enter the words: y\n",
            "['_', 'a', '_', '_', '_', '_', '_']\n",
            "\n",
            "  +---+\n",
            "  |   |\n",
            "  O   |\n",
            "      |\n",
            "      |\n",
            "      |\n",
            "=========\n",
            "enter the words: e\n",
            "['_', 'a', '_', '_', '_', '_', '_']\n",
            "\n",
            "  +---+\n",
            "  |   |\n",
            "  O   |\n",
            "  |   |\n",
            "      |\n",
            "      |\n",
            "=========\n",
            "enter the words: i\n",
            "['_', 'a', '_', '_', '_', '_', '_']\n",
            "\n",
            "  +---+\n",
            "  |   |\n",
            "  O   |\n",
            " /|   |\n",
            "      |\n",
            "      |\n",
            "=========\n",
            "enter the words: j\n",
            "['_', 'a', '_', '_', '_', '_', '_']\n",
            "\n",
            "  +---+\n",
            "  |   |\n",
            "  O   |\n",
            " /|\\  |\n",
            "      |\n",
            "      |\n",
            "=========\n",
            "enter the words: m\n",
            "['m', 'a', '_', '_', '_', '_', '_']\n",
            "enter the words: n\n",
            "['m', 'a', '_', '_', '_', '_', '_']\n",
            "\n",
            "  +---+\n",
            "  |   |\n",
            "  O   |\n",
            " /|\\  |\n",
            " /    |\n",
            "      |\n",
            "=========\n",
            "enter the words: p\n",
            "['m', 'a', '_', '_', '_', '_', '_']\n",
            "\n",
            "  +---+\n",
            "  |   |\n",
            "  O   |\n",
            " /|\\  |\n",
            " / \\  |\n",
            "      |\n",
            "=========\n",
            "you loose:You hanged 😔☠️\n",
            "The word was:-->macbook <--\n"
          ]
        }
      ]
    },
    {
      "cell_type": "code",
      "source": [
        "\n"
      ],
      "metadata": {
        "id": "KvX1P83qThAE"
      },
      "execution_count": null,
      "outputs": []
    },
    {
      "cell_type": "code",
      "source": [],
      "metadata": {
        "id": "6VGXGxUkm-Am"
      },
      "execution_count": null,
      "outputs": []
    }
  ]
}